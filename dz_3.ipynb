{
 "cells": [
  {
   "cell_type": "code",
   "execution_count": 339,
   "id": "bc06dedd",
   "metadata": {},
   "outputs": [],
   "source": [
    "import tensorflow as tf\n",
    "from tensorflow import keras\n",
    "\n",
    "import numpy as np\n",
    "import matplotlib.pyplot as plt"
   ]
  },
  {
   "cell_type": "code",
   "execution_count": 340,
   "id": "3b118149",
   "metadata": {},
   "outputs": [],
   "source": [
    "from sklearn.datasets import load_wine\n",
    "from sklearn.model_selection import train_test_split"
   ]
  },
  {
   "cell_type": "code",
   "execution_count": 341,
   "id": "a569b773",
   "metadata": {},
   "outputs": [],
   "source": [
    "data = load_wine()"
   ]
  },
  {
   "cell_type": "code",
   "execution_count": 342,
   "id": "09e45cc4",
   "metadata": {},
   "outputs": [
    {
     "data": {
      "text/plain": [
       "['class_0', 'class_1', 'class_2']"
      ]
     },
     "execution_count": 342,
     "metadata": {},
     "output_type": "execute_result"
    }
   ],
   "source": [
    "list(data.target_names)"
   ]
  },
  {
   "cell_type": "code",
   "execution_count": 343,
   "id": "fa349263",
   "metadata": {},
   "outputs": [
    {
     "data": {
      "text/plain": [
       "((178, 13), (178,))"
      ]
     },
     "execution_count": 343,
     "metadata": {},
     "output_type": "execute_result"
    }
   ],
   "source": [
    "data.data.shape, data.target.shape"
   ]
  },
  {
   "cell_type": "code",
   "execution_count": 344,
   "id": "c16af467",
   "metadata": {},
   "outputs": [],
   "source": [
    "data = np.c_[data['data'], data['target']]"
   ]
  },
  {
   "cell_type": "code",
   "execution_count": 345,
   "id": "6363a88b",
   "metadata": {},
   "outputs": [],
   "source": [
    "from sklearn import preprocessing\n"
   ]
  },
  {
   "cell_type": "code",
   "execution_count": 346,
   "id": "5e8a1ea3",
   "metadata": {},
   "outputs": [],
   "source": [
    "target = data[:, -1]"
   ]
  },
  {
   "cell_type": "code",
   "execution_count": 347,
   "id": "2fd46891",
   "metadata": {},
   "outputs": [
    {
     "data": {
      "text/plain": [
       "array([0., 0., 0., 0., 0., 0., 0., 0., 0., 0., 0., 0., 0., 0., 0., 0., 0.,\n",
       "       0., 0., 0., 0., 0., 0., 0., 0., 0., 0., 0., 0., 0., 0., 0., 0., 0.,\n",
       "       0., 0., 0., 0., 0., 0., 0., 0., 0., 0., 0., 0., 0., 0., 0., 0., 0.,\n",
       "       0., 0., 0., 0., 0., 0., 0., 0., 1., 1., 1., 1., 1., 1., 1., 1., 1.,\n",
       "       1., 1., 1., 1., 1., 1., 1., 1., 1., 1., 1., 1., 1., 1., 1., 1., 1.,\n",
       "       1., 1., 1., 1., 1., 1., 1., 1., 1., 1., 1., 1., 1., 1., 1., 1., 1.,\n",
       "       1., 1., 1., 1., 1., 1., 1., 1., 1., 1., 1., 1., 1., 1., 1., 1., 1.,\n",
       "       1., 1., 1., 1., 1., 1., 1., 1., 1., 1., 1., 2., 2., 2., 2., 2., 2.,\n",
       "       2., 2., 2., 2., 2., 2., 2., 2., 2., 2., 2., 2., 2., 2., 2., 2., 2.,\n",
       "       2., 2., 2., 2., 2., 2., 2., 2., 2., 2., 2., 2., 2., 2., 2., 2., 2.,\n",
       "       2., 2., 2., 2., 2., 2., 2., 2.])"
      ]
     },
     "execution_count": 347,
     "metadata": {},
     "output_type": "execute_result"
    }
   ],
   "source": [
    "target"
   ]
  },
  {
   "cell_type": "code",
   "execution_count": 348,
   "id": "1f0db4f5",
   "metadata": {},
   "outputs": [],
   "source": [
    "data = data[:, :-1]"
   ]
  },
  {
   "cell_type": "code",
   "execution_count": 349,
   "id": "f6142264",
   "metadata": {},
   "outputs": [
    {
     "data": {
      "text/plain": [
       "array([[1.423e+01, 1.710e+00, 2.430e+00, ..., 1.040e+00, 3.920e+00,\n",
       "        1.065e+03],\n",
       "       [1.320e+01, 1.780e+00, 2.140e+00, ..., 1.050e+00, 3.400e+00,\n",
       "        1.050e+03],\n",
       "       [1.316e+01, 2.360e+00, 2.670e+00, ..., 1.030e+00, 3.170e+00,\n",
       "        1.185e+03],\n",
       "       ...,\n",
       "       [1.327e+01, 4.280e+00, 2.260e+00, ..., 5.900e-01, 1.560e+00,\n",
       "        8.350e+02],\n",
       "       [1.317e+01, 2.590e+00, 2.370e+00, ..., 6.000e-01, 1.620e+00,\n",
       "        8.400e+02],\n",
       "       [1.413e+01, 4.100e+00, 2.740e+00, ..., 6.100e-01, 1.600e+00,\n",
       "        5.600e+02]])"
      ]
     },
     "execution_count": 349,
     "metadata": {},
     "output_type": "execute_result"
    }
   ],
   "source": [
    "data"
   ]
  },
  {
   "cell_type": "code",
   "execution_count": 350,
   "id": "dcf4a8a5",
   "metadata": {},
   "outputs": [],
   "source": [
    "# data = preprocessing.normalize(data)"
   ]
  },
  {
   "cell_type": "code",
   "execution_count": 351,
   "id": "b69ff04b",
   "metadata": {},
   "outputs": [
    {
     "data": {
      "text/plain": [
       "array([[1.423e+01, 1.710e+00, 2.430e+00, ..., 1.040e+00, 3.920e+00,\n",
       "        1.065e+03],\n",
       "       [1.320e+01, 1.780e+00, 2.140e+00, ..., 1.050e+00, 3.400e+00,\n",
       "        1.050e+03],\n",
       "       [1.316e+01, 2.360e+00, 2.670e+00, ..., 1.030e+00, 3.170e+00,\n",
       "        1.185e+03],\n",
       "       ...,\n",
       "       [1.327e+01, 4.280e+00, 2.260e+00, ..., 5.900e-01, 1.560e+00,\n",
       "        8.350e+02],\n",
       "       [1.317e+01, 2.590e+00, 2.370e+00, ..., 6.000e-01, 1.620e+00,\n",
       "        8.400e+02],\n",
       "       [1.413e+01, 4.100e+00, 2.740e+00, ..., 6.100e-01, 1.600e+00,\n",
       "        5.600e+02]])"
      ]
     },
     "execution_count": 351,
     "metadata": {},
     "output_type": "execute_result"
    }
   ],
   "source": [
    "data"
   ]
  },
  {
   "cell_type": "code",
   "execution_count": 352,
   "id": "cd2e69be",
   "metadata": {},
   "outputs": [],
   "source": [
    "X_train, X_test, y_train, y_test = train_test_split(data, target, test_size=0.33, shuffle=True, random_state=0)"
   ]
  },
  {
   "cell_type": "code",
   "execution_count": 353,
   "id": "2d87cc8a",
   "metadata": {},
   "outputs": [
    {
     "data": {
      "text/plain": [
       "((119, 13), (59, 13), (119,), (59,))"
      ]
     },
     "execution_count": 353,
     "metadata": {},
     "output_type": "execute_result"
    }
   ],
   "source": [
    "X_train.shape, X_test.shape, y_train.shape, y_test.shape"
   ]
  },
  {
   "cell_type": "code",
   "execution_count": 354,
   "id": "627ac6bc",
   "metadata": {},
   "outputs": [],
   "source": [
    "model = keras.Sequential([\n",
    "    keras.layers.Flatten(input_shape=(13,)),\n",
    "    keras.layers.Dense(500, activation='relu'),\n",
    "    keras.layers.Dense(500, activation='relu'),\n",
    "    keras.layers.Dense(500, activation='relu'),\n",
    "    keras.layers.Dense(3)\n",
    "])"
   ]
  },
  {
   "cell_type": "code",
   "execution_count": 355,
   "id": "318112c4",
   "metadata": {},
   "outputs": [],
   "source": [
    "model.compile(optimizer=tf.keras.optimizers.Adam(learning_rate=0.001),\n",
    "              loss=tf.keras.losses.SparseCategoricalCrossentropy(from_logits=True),\n",
    "              metrics=['accuracy'])\n"
   ]
  },
  {
   "cell_type": "code",
   "execution_count": 356,
   "id": "be292039",
   "metadata": {},
   "outputs": [
    {
     "name": "stdout",
     "output_type": "stream",
     "text": [
      "Epoch 1/9\n",
      "4/4 - 1s - loss: 78.8197 - accuracy: 0.3193 - 856ms/epoch - 214ms/step\n",
      "Epoch 2/9\n",
      "4/4 - 0s - loss: 43.4181 - accuracy: 0.3277 - 34ms/epoch - 9ms/step\n",
      "Epoch 3/9\n",
      "4/4 - 0s - loss: 32.6736 - accuracy: 0.3866 - 32ms/epoch - 8ms/step\n",
      "Epoch 4/9\n",
      "4/4 - 0s - loss: 11.3322 - accuracy: 0.3361 - 30ms/epoch - 8ms/step\n",
      "Epoch 5/9\n",
      "4/4 - 0s - loss: 10.1766 - accuracy: 0.3109 - 31ms/epoch - 8ms/step\n",
      "Epoch 6/9\n",
      "4/4 - 0s - loss: 9.2731 - accuracy: 0.3613 - 37ms/epoch - 9ms/step\n",
      "Epoch 7/9\n",
      "4/4 - 0s - loss: 7.7068 - accuracy: 0.3782 - 29ms/epoch - 7ms/step\n",
      "Epoch 8/9\n",
      "4/4 - 0s - loss: 4.1951 - accuracy: 0.4118 - 25ms/epoch - 6ms/step\n",
      "Epoch 9/9\n",
      "4/4 - 0s - loss: 4.8065 - accuracy: 0.5714 - 30ms/epoch - 8ms/step\n"
     ]
    }
   ],
   "source": [
    "hstr = model.fit(X_train, y_train, epochs=9, verbose=2)"
   ]
  },
  {
   "cell_type": "code",
   "execution_count": 357,
   "id": "d7bfe919",
   "metadata": {},
   "outputs": [
    {
     "name": "stdout",
     "output_type": "stream",
     "text": [
      "2/2 [==============================] - 0s 4ms/step\n"
     ]
    },
    {
     "data": {
      "text/plain": [
       "array([[  5.8391047 ,  -9.678711  , -17.253592  ],\n",
       "       [ -2.8817294 ,   0.42178416,  -5.866847  ],\n",
       "       [ -1.6963617 ,  -0.28432527,  -5.4985223 ],\n",
       "       [  6.7276125 , -10.879542  , -18.692112  ],\n",
       "       [ -2.2829993 ,   0.40594655,  -4.785716  ],\n",
       "       [ -3.9278572 ,   1.3760009 ,  -5.7705355 ],\n",
       "       [  9.123471  , -13.569333  , -22.054132  ],\n",
       "       [ -0.25219604,  -1.9740545 ,  -7.1900787 ],\n",
       "       [  0.33866373,  -2.407971  ,  -7.391823  ],\n",
       "       [ -0.14167616,  -1.7492996 ,  -6.7673683 ],\n",
       "       [  3.7031858 ,  -6.7134023 , -12.572806  ],\n",
       "       [ -1.1599628 ,  -0.6830674 ,  -5.4111805 ],\n",
       "       [ 12.158159  , -16.650082  , -25.360138  ],\n",
       "       [  1.9196563 ,  -4.580638  , -10.212432  ],\n",
       "       [  1.7240145 ,  -4.9249306 , -11.245006  ],\n",
       "       [ -3.5156462 ,   2.0441258 ,  -3.2847044 ],\n",
       "       [  7.3134346 , -11.736943  , -20.420258  ],\n",
       "       [ 15.813713  , -20.390728  , -29.908165  ],\n",
       "       [ -2.1129649 ,   0.05378819,  -5.61107   ],\n",
       "       [ 10.692964  , -14.618997  , -22.296255  ],\n",
       "       [  0.4577972 ,  -2.4737117 ,  -7.217553  ],\n",
       "       [  8.013771  , -11.834184  , -19.036919  ],\n",
       "       [  0.7641113 ,  -3.5032363 , -10.531904  ],\n",
       "       [  2.3372886 ,  -4.989264  , -10.618123  ],\n",
       "       [  1.515135  ,  -3.9871802 ,  -9.981492  ],\n",
       "       [ -3.1878152 ,   1.5228653 ,  -3.9989696 ],\n",
       "       [ -2.771008  ,   0.8809206 ,  -4.419677  ],\n",
       "       [ -0.8155339 ,  -1.2588488 ,  -6.85169   ],\n",
       "       [  0.03551247,  -2.3514557 ,  -8.497641  ],\n",
       "       [  0.90506315,  -3.6166098 ,  -8.93752   ],\n",
       "       [  9.767371  , -13.576261  , -20.948296  ],\n",
       "       [  4.4101443 ,  -8.011552  , -15.337622  ],\n",
       "       [  1.2916253 ,  -3.6585798 ,  -8.853545  ],\n",
       "       [  6.5974846 , -10.495525  , -17.98608   ],\n",
       "       [  7.2837925 , -10.851651  , -17.720726  ],\n",
       "       [  3.9798067 ,  -7.2984953 , -14.07672   ],\n",
       "       [  0.8296578 ,  -3.4154572 ,  -9.668685  ],\n",
       "       [  0.04602196,  -2.0802722 ,  -7.114746  ],\n",
       "       [ -3.4934502 ,   1.8492702 ,  -4.083303  ],\n",
       "       [  2.06339   ,  -5.1603174 , -11.366794  ],\n",
       "       [  4.110547  ,  -7.283162  , -13.768328  ],\n",
       "       [ 10.248051  , -14.591158  , -22.61071   ],\n",
       "       [ -3.4527433 ,   2.032131  ,  -3.402471  ],\n",
       "       [  0.59607077,  -2.7501097 ,  -8.149613  ],\n",
       "       [ -1.5512773 ,  -0.4270004 ,  -5.7821207 ],\n",
       "       [  2.7336679 ,  -5.8571305 , -12.775334  ],\n",
       "       [  2.0521245 ,  -4.862688  , -10.508381  ],\n",
       "       [  4.363782  ,  -7.7023044 , -14.499008  ],\n",
       "       [  3.1015413 ,  -6.464551  , -13.105466  ],\n",
       "       [  8.864017  , -13.375894  , -21.807224  ],\n",
       "       [ -1.2816896 ,  -0.95376027,  -6.9648232 ],\n",
       "       [  0.75733304,  -3.0803938 ,  -8.337363  ],\n",
       "       [  1.8745658 ,  -4.856556  , -11.699513  ],\n",
       "       [  0.7177639 ,  -3.7744775 ,  -9.578612  ],\n",
       "       [  6.7899013 , -10.408448  , -17.489021  ],\n",
       "       [ -3.5156739 ,   1.9640062 ,  -3.703178  ],\n",
       "       [  2.0663226 ,  -5.460139  , -12.251159  ],\n",
       "       [  3.4767025 ,  -6.6094227 , -13.124616  ],\n",
       "       [ -2.0521083 ,  -0.0389839 ,  -5.4138365 ]], dtype=float32)"
      ]
     },
     "execution_count": 357,
     "metadata": {},
     "output_type": "execute_result"
    }
   ],
   "source": [
    "model.predict(X_test)"
   ]
  },
  {
   "cell_type": "code",
   "execution_count": 358,
   "id": "8a0a2a61",
   "metadata": {},
   "outputs": [
    {
     "name": "stdout",
     "output_type": "stream",
     "text": [
      "2/2 [==============================] - 0s 5ms/step\n"
     ]
    }
   ],
   "source": [
    "probability_model = tf.keras.Sequential([model, \n",
    "                                         tf.keras.layers.Softmax()])\n",
    "predictions = probability_model.predict(X_test)"
   ]
  },
  {
   "cell_type": "code",
   "execution_count": 359,
   "id": "724e1b65",
   "metadata": {},
   "outputs": [
    {
     "name": "stdout",
     "output_type": "stream",
     "text": [
      "[0.11735232 0.8785784  0.00406922]\n",
      "1\n",
      "[1.386e+01 1.510e+00 2.670e+00 2.500e+01 8.600e+01 2.950e+00 2.860e+00\n",
      " 2.100e-01 1.870e+00 3.380e+00 1.360e+00 3.160e+00 4.100e+02]\n"
     ]
    }
   ],
   "source": [
    "print(predictions[-1],\n",
    "      np.argmax(predictions[-1]),\n",
    "      X_test[-1],\n",
    "      sep='\\n')"
   ]
  },
  {
   "cell_type": "code",
   "execution_count": null,
   "id": "75662dc7",
   "metadata": {},
   "outputs": [],
   "source": []
  }
 ],
 "metadata": {
  "kernelspec": {
   "display_name": "Python 3 (ipykernel)",
   "language": "python",
   "name": "python3"
  },
  "language_info": {
   "codemirror_mode": {
    "name": "ipython",
    "version": 3
   },
   "file_extension": ".py",
   "mimetype": "text/x-python",
   "name": "python",
   "nbconvert_exporter": "python",
   "pygments_lexer": "ipython3",
   "version": "3.10.4"
  }
 },
 "nbformat": 4,
 "nbformat_minor": 5
}
